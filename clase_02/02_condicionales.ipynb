{
 "cells": [
  {
   "cell_type": "markdown",
   "metadata": {},
   "source": [
    "# Condicionales"
   ]
  },
  {
   "cell_type": "markdown",
   "metadata": {},
   "source": [
    "## Expresiones Booleanas"
   ]
  },
  {
   "cell_type": "code",
   "execution_count": 3,
   "metadata": {},
   "outputs": [
    {
     "name": "stdout",
     "output_type": "stream",
     "text": [
      "1 == 1 : True\n",
      "1 == 2 : False\n"
     ]
    }
   ],
   "source": [
    "print('1 == 1 : {}'.format(1 == 1))\n",
    "print('1 == 2 : {}'.format(1 == 2))"
   ]
  },
  {
   "cell_type": "code",
   "execution_count": 4,
   "metadata": {},
   "outputs": [
    {
     "name": "stdout",
     "output_type": "stream",
     "text": [
      "p != q : True\n",
      "p > q : False\n",
      "p < q : True\n",
      "p >= q : False\n",
      "p <= q : True\n",
      "p is q : False\n",
      "p is not q : True\n"
     ]
    }
   ],
   "source": [
    "p = 1\n",
    "q = 2\n",
    "print('p == q : {}'.format(p == q))\n",
    "print('p != q : {}'.format(p != q))\n",
    "print('p > q : {}'.format(p > q))\n",
    "print('p < q : {}'.format(p < q))\n",
    "print('p >= q : {}'.format(p >= q))\n",
    "print('p <= q : {}'.format(p <= q))\n",
    "print('p is q : {}'.format(p is q))\n",
    "print('p is not q : {}'.format(p is not q))"
   ]
  },
  {
   "cell_type": "markdown",
   "metadata": {},
   "source": [
    "## Operadores Lógicos"
   ]
  },
  {
   "cell_type": "code",
   "execution_count": 10,
   "metadata": {},
   "outputs": [
    {
     "name": "stdout",
     "output_type": "stream",
     "text": [
      "x > 3 and y > x : False\n",
      "x > 3 or y > x : True\n",
      "not (x > 3 or y > x) : False\n"
     ]
    }
   ],
   "source": [
    "x = 1\n",
    "y = 3\n",
    "z = x > 3 and y > x\n",
    "print('x > 3 and y > x :', z)\n",
    "z = x > 3 or y > x\n",
    "print('x > 3 or y > x :', z)\n",
    "z = not (x > 3 or y > x)\n",
    "print('not (x > 3 or y > x) :', z)"
   ]
  },
  {
   "cell_type": "code",
   "execution_count": 11,
   "metadata": {},
   "outputs": [
    {
     "data": {
      "text/plain": [
       "True"
      ]
     },
     "execution_count": 11,
     "metadata": {},
     "output_type": "execute_result"
    }
   ],
   "source": [
    "17 and True"
   ]
  },
  {
   "cell_type": "markdown",
   "metadata": {},
   "source": [
    "## IF"
   ]
  },
  {
   "cell_type": "code",
   "execution_count": 14,
   "metadata": {},
   "outputs": [
    {
     "name": "stdout",
     "output_type": "stream",
     "text": [
      "5 es mayor a 1\n"
     ]
    }
   ],
   "source": [
    "x = 5\n",
    "\n",
    "if x > 1:\n",
    "    print(x, 'es mayor a', 1)"
   ]
  },
  {
   "cell_type": "code",
   "execution_count": 21,
   "metadata": {},
   "outputs": [
    {
     "name": "stdout",
     "output_type": "stream",
     "text": [
      "5 es impar\n"
     ]
    }
   ],
   "source": [
    "x = 5\n",
    "\n",
    "if x % 2 == 0:\n",
    "    print(x, 'es par')\n",
    "else:\n",
    "    print(x, 'es impar')"
   ]
  },
  {
   "cell_type": "code",
   "execution_count": 24,
   "metadata": {},
   "outputs": [],
   "source": [
    "x = 10\n",
    "\n",
    "if x < 1000:\n",
    "    pass"
   ]
  },
  {
   "cell_type": "code",
   "execution_count": 28,
   "metadata": {},
   "outputs": [
    {
     "name": "stdout",
     "output_type": "stream",
     "text": [
      "12 es mayor a 11\n"
     ]
    }
   ],
   "source": [
    "x = 12\n",
    "y = 11\n",
    "\n",
    "if x > y:\n",
    "    print(x, 'es mayor a', y)\n",
    "elif x < y:\n",
    "    print(x, 'es menor a', y)\n",
    "else:\n",
    "    print(x, 'es igual a', y)"
   ]
  },
  {
   "cell_type": "code",
   "execution_count": 31,
   "metadata": {},
   "outputs": [
    {
     "name": "stdout",
     "output_type": "stream",
     "text": [
      "10 es menor a 11\n"
     ]
    }
   ],
   "source": [
    "x = 10\n",
    "y = 11\n",
    "\n",
    "if x > y:\n",
    "    print(x, 'es mayor a', y)\n",
    "else:\n",
    "    if x < y:\n",
    "        print(x, 'es menor a', y)\n",
    "    else:\n",
    "        print(x, 'es igual a', y)"
   ]
  },
  {
   "cell_type": "markdown",
   "metadata": {},
   "source": [
    "## La evaluación de circuito corto,"
   ]
  },
  {
   "cell_type": "code",
   "execution_count": 45,
   "metadata": {},
   "outputs": [
    {
     "data": {
      "text/plain": [
       "True"
      ]
     },
     "execution_count": 45,
     "metadata": {},
     "output_type": "execute_result"
    }
   ],
   "source": [
    "x = 6\n",
    "y = 2\n",
    "x >= 2 and (x/y) > 2"
   ]
  },
  {
   "cell_type": "code",
   "execution_count": 46,
   "metadata": {},
   "outputs": [
    {
     "data": {
      "text/plain": [
       "False"
      ]
     },
     "execution_count": 46,
     "metadata": {},
     "output_type": "execute_result"
    }
   ],
   "source": [
    "x = 1\n",
    "y = 0\n",
    "x >= 2 and (x/y) > 2"
   ]
  },
  {
   "cell_type": "code",
   "execution_count": 2,
   "metadata": {},
   "outputs": [
    {
     "data": {
      "text/plain": [
       "False"
      ]
     },
     "execution_count": 2,
     "metadata": {},
     "output_type": "execute_result"
    }
   ],
   "source": [
    "x = 6\n",
    "y = 3\n",
    "x >= 2 and (x/y) > 2"
   ]
  },
  {
   "cell_type": "code",
   "execution_count": 48,
   "metadata": {},
   "outputs": [
    {
     "data": {
      "text/plain": [
       "False"
      ]
     },
     "execution_count": 48,
     "metadata": {},
     "output_type": "execute_result"
    }
   ],
   "source": [
    "x = 6\n",
    "y = 0\n",
    "x >= 2 and y != 0 and (x/y) > 2"
   ]
  },
  {
   "cell_type": "markdown",
   "metadata": {},
   "source": [
    "## try and except"
   ]
  },
  {
   "cell_type": "code",
   "execution_count": 42,
   "metadata": {},
   "outputs": [
    {
     "name": "stdout",
     "output_type": "stream",
     "text": [
      "Ingrese su edad:\n",
      "> 30\n",
      "usted tiene aproximadamente 262800 horas de vida\n"
     ]
    }
   ],
   "source": [
    "edad = input('Ingrese su edad:\\n> ')\n",
    "horas = int(edad) * 365 * 24\n",
    "print('usted tiene aproximadamente {} horas de vida'.format(horas))"
   ]
  },
  {
   "cell_type": "code",
   "execution_count": 43,
   "metadata": {},
   "outputs": [
    {
     "name": "stdout",
     "output_type": "stream",
     "text": [
      "Ingrese su edad:\n",
      "> asd\n",
      "ingrese un valor numérico\n"
     ]
    }
   ],
   "source": [
    "try:\n",
    "    edad = input('Ingrese su edad:\\n> ')\n",
    "    horas = int(edad) * 365 * 24\n",
    "    print('usted tiene aproximadamente {} horas de vida'.format(horas))\n",
    "except:\n",
    "    print('ingrese un valor numérico')"
   ]
  },
  {
   "cell_type": "code",
   "execution_count": null,
   "metadata": {},
   "outputs": [],
   "source": []
  }
 ],
 "metadata": {
  "kernelspec": {
   "display_name": "Python 3",
   "language": "python",
   "name": "python3"
  },
  "language_info": {
   "codemirror_mode": {
    "name": "ipython",
    "version": 3
   },
   "file_extension": ".py",
   "mimetype": "text/x-python",
   "name": "python",
   "nbconvert_exporter": "python",
   "pygments_lexer": "ipython3",
   "version": "3.7.4"
  }
 },
 "nbformat": 4,
 "nbformat_minor": 2
}

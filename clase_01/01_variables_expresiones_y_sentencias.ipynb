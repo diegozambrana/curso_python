{
 "cells": [
  {
   "cell_type": "markdown",
   "metadata": {},
   "source": [
    "# 01 Variables, Expresiones y Sentencias"
   ]
  },
  {
   "cell_type": "markdown",
   "metadata": {},
   "source": [
    "## Valores y tipos"
   ]
  },
  {
   "cell_type": "code",
   "execution_count": 1,
   "metadata": {},
   "outputs": [
    {
     "name": "stdout",
     "output_type": "stream",
     "text": [
      "3\n",
      "Esto es un texto\n",
      "True\n",
      "3.2\n"
     ]
    }
   ],
   "source": [
    "print(3)\n",
    "print('Esto es un texto')\n",
    "print(True)\n",
    "print(3.2)"
   ]
  },
  {
   "cell_type": "markdown",
   "metadata": {},
   "source": [
    "para conocer el tipo de un valor se utiliza la función `type()`"
   ]
  },
  {
   "cell_type": "code",
   "execution_count": 2,
   "metadata": {},
   "outputs": [
    {
     "name": "stdout",
     "output_type": "stream",
     "text": [
      "el valor 2 es de tipo <class 'int'>\n",
      "el valor 2.0 es de tipo <class 'float'>\n",
      "el valor 'str' es de tipo <class 'str'>\n",
      "el valor True es de tipo <class 'bool'>\n",
      "el valor [1, 2] es de tipo <class 'list'>\n",
      "el valor (1, 2) es de tipo <class 'tuple'>\n",
      "el valor {'a': 1} es de tipo <class 'dict'>\n",
      "el valor {1, 3, 4} es de tipo <class 'set'>\n"
     ]
    }
   ],
   "source": [
    "print('el valor {} es de tipo {}'.format(2, type(2)))\n",
    "print('el valor {} es de tipo {}'.format(2.0, type(2.0)))\n",
    "print('el valor \\'{}\\' es de tipo {}'.format('str', type('str')))\n",
    "print('el valor {} es de tipo {}'.format(True, type(True)))\n",
    "print('el valor {} es de tipo {}'.format([1,2], type([1,2])))\n",
    "print('el valor {} es de tipo {}'.format((1,2), type((1,2))))\n",
    "print('el valor {} es de tipo {}'.format({'a': 1}, type({'a': 1})))\n",
    "print('el valor {} es de tipo {}'.format(set([1, 3, 1, 4]), type(set([1, 3, 1, 4]))))"
   ]
  },
  {
   "cell_type": "markdown",
   "metadata": {},
   "source": [
    "## Variables"
   ]
  },
  {
   "cell_type": "code",
   "execution_count": 3,
   "metadata": {},
   "outputs": [
    {
     "name": "stdout",
     "output_type": "stream",
     "text": [
      "texto: En un lugar de la mancha\n",
      "n: 13\n",
      "pi: 3.141592653589793\n",
      "lista: [1, 2, 3, 5, 8, 13]\n"
     ]
    }
   ],
   "source": [
    "texto = 'En un lugar de la mancha'\n",
    "n = 13\n",
    "pi = 3.1415926535897931\n",
    "lista = [1, 2, 3, 5, 8, 13]\n",
    "\n",
    "print('texto: {}'.format(texto))\n",
    "print('n: {}'.format(n))\n",
    "print('pi: {}'.format(pi))\n",
    "print('lista: {}'.format(lista))"
   ]
  },
  {
   "cell_type": "code",
   "execution_count": 4,
   "metadata": {},
   "outputs": [
    {
     "data": {
      "text/plain": [
       "list"
      ]
     },
     "execution_count": 4,
     "metadata": {},
     "output_type": "execute_result"
    }
   ],
   "source": [
    "type(lista)"
   ]
  },
  {
   "cell_type": "markdown",
   "metadata": {},
   "source": [
    "Los nombres de las variables pueden contener letras, nuúmeros y guión bajo (_)\n",
    "\n",
    "* Los nombres de las variables no pueden empezar con números.\n",
    "* No se pueden usar palabras reservadas como nombre de las variables."
   ]
  },
  {
   "cell_type": "code",
   "execution_count": 5,
   "metadata": {},
   "outputs": [],
   "source": [
    "lugar_de_nacimiento = 'Bolivia'\n",
    "numero2 = 2\n",
    "esVisible = False"
   ]
  },
  {
   "cell_type": "code",
   "execution_count": 6,
   "metadata": {},
   "outputs": [
    {
     "ename": "SyntaxError",
     "evalue": "invalid syntax (<ipython-input-6-bec4970d20aa>, line 1)",
     "output_type": "error",
     "traceback": [
      "\u001b[0;36m  File \u001b[0;32m\"<ipython-input-6-bec4970d20aa>\"\u001b[0;36m, line \u001b[0;32m1\u001b[0m\n\u001b[0;31m    1variable = 'una variable'\u001b[0m\n\u001b[0m            ^\u001b[0m\n\u001b[0;31mSyntaxError\u001b[0m\u001b[0;31m:\u001b[0m invalid syntax\n"
     ]
    }
   ],
   "source": [
    "1variable = 'una variable'"
   ]
  },
  {
   "cell_type": "code",
   "execution_count": null,
   "metadata": {},
   "outputs": [],
   "source": [
    "person@ = 'persona'"
   ]
  },
  {
   "cell_type": "code",
   "execution_count": null,
   "metadata": {},
   "outputs": [],
   "source": [
    "class = 'esto no puede ser una variable'"
   ]
  },
  {
   "cell_type": "markdown",
   "metadata": {},
   "source": [
    "Palabras reservadas de python https://docs.python.org/2.5/ref/keywords.html"
   ]
  },
  {
   "cell_type": "markdown",
   "metadata": {},
   "source": [
    "**Tip:**\n",
    "Hacer uso de nombres de variables mnemotécnicas para ayudarnos a recordar por qué creamos la variable en primer lugar."
   ]
  },
  {
   "cell_type": "markdown",
   "metadata": {},
   "source": [
    "## Sentencias"
   ]
  },
  {
   "cell_type": "code",
   "execution_count": null,
   "metadata": {},
   "outputs": [],
   "source": [
    "print(1)\n",
    "n = 2\n",
    "print(n)"
   ]
  },
  {
   "cell_type": "markdown",
   "metadata": {},
   "source": [
    "## Operadores y Operandos\n",
    "\n",
    "Los operadores son +, -, \\*, /, **"
   ]
  },
  {
   "cell_type": "code",
   "execution_count": null,
   "metadata": {},
   "outputs": [],
   "source": [
    "print('suma 1 + 2 = {}'.format(1 + 2))\n",
    "print('resta 4 - 2 = {}'.format(4 - 2))\n",
    "print('multiplicación 3 * 2 = {}'.format(3 * 2))\n",
    "# En python 2.0 la división te devolvía un entero, python 3.0 te devuelve un typo flotante\n",
    "print('división 10 / 3 = {}'.format(10 / 3))\n",
    "# Para obtener un entero se usa //\n",
    "print('división 10 // 3 = {}'.format(10 // 3))\n",
    "print('potencia 5 ** 3 = {}'.format(5 ** 3))"
   ]
  },
  {
   "cell_type": "markdown",
   "metadata": {},
   "source": [
    "### Operador Módulo"
   ]
  },
  {
   "cell_type": "code",
   "execution_count": null,
   "metadata": {},
   "outputs": [],
   "source": [
    "print('Módulo 5 % 3 = {}'.format(5 % 3))"
   ]
  },
  {
   "cell_type": "markdown",
   "metadata": {},
   "source": [
    "## expresiones\n",
    "\n",
    "Es una combinación de Valores, Variables y Operadores\n",
    "```\n",
    "13\n",
    "x\n",
    "x + 13\n",
    "```"
   ]
  },
  {
   "cell_type": "code",
   "execution_count": null,
   "metadata": {},
   "outputs": [],
   "source": [
    "(3 + 2) ** 3"
   ]
  },
  {
   "cell_type": "markdown",
   "metadata": {},
   "source": [
    "## Orden de las operaciones\n",
    "\n",
    "python utiliza **PEMDAS** \n",
    "1. **Parentheses first**: parentesis\n",
    "2. **Exponents**: Potencias\n",
    "3. **Multiplication and Divisio**: Multiplicación y División\n",
    "4. **Addition and Subtraction**: Suma y Resta"
   ]
  },
  {
   "cell_type": "code",
   "execution_count": null,
   "metadata": {},
   "outputs": [],
   "source": [
    "# (10 + 2) + 3 * 4 - ((2 ** 2) * (2 + 3))\n",
    "# 12 + 12 - 2 ** 2 * 5\n",
    "# 12 + 12 - 4 * 5\n",
    "# 12 + 12 - 20\n",
    "# 4\n",
    "\n",
    "(10 + 2) + 3 * 4 - 2 ** 2 * (2 + 3)"
   ]
  },
  {
   "cell_type": "markdown",
   "metadata": {},
   "source": [
    "## Operaciones en Cadenas"
   ]
  },
  {
   "cell_type": "code",
   "execution_count": null,
   "metadata": {},
   "outputs": [],
   "source": [
    "# el operador + concatena cadenas\n",
    "a = '1024'\n",
    "b = '512'\n",
    "a + b"
   ]
  },
  {
   "cell_type": "code",
   "execution_count": null,
   "metadata": {},
   "outputs": [],
   "source": [
    "# el operador * multiplica el contenido de la cadena\n",
    "texto = 'texto '\n",
    "n = 3\n",
    "texto * n"
   ]
  },
  {
   "cell_type": "markdown",
   "metadata": {},
   "source": [
    "## Input"
   ]
  },
  {
   "cell_type": "code",
   "execution_count": null,
   "metadata": {},
   "outputs": [],
   "source": [
    "nombre = input('Cómo te llamas?\\n> ')\n",
    "print('Hola {}'.format(nombre))"
   ]
  },
  {
   "cell_type": "code",
   "execution_count": null,
   "metadata": {},
   "outputs": [],
   "source": [
    "edad = input('Qué edad tienes?\\n> ')\n",
    "horas_de_vida = int(edad) * 365 * 24\n",
    "print('Usted tiene aproximadamente {} horas de vida.'.format(horas_de_vida))"
   ]
  },
  {
   "cell_type": "markdown",
   "metadata": {},
   "source": [
    "## Comentarios"
   ]
  },
  {
   "cell_type": "code",
   "execution_count": null,
   "metadata": {},
   "outputs": [],
   "source": [
    "\"\"\"\n",
    "la formula para obtener la aceleracion es la siguiente:\n",
    "a = dv / dt = (vf – vi)/(tf – ti)\n",
    "\"\"\"\n",
    "\n",
    "v0 = 12.3  # velocidad inicial en m/s\n",
    "v1 = 41.2  # velocidad final en m/s\n",
    "t0 = 0     # Tiempo inicial en segundos\n",
    "t1 = 10    # Tiempo Final en segundos\n",
    "\n",
    "# Aceleración se representa en m/s2\n",
    "a = (v1 - v0)/t\n",
    "\n",
    "print('la aceleración es {} m/s2'.format(a))"
   ]
  },
  {
   "cell_type": "markdown",
   "metadata": {},
   "source": [
    "## Debugging"
   ]
  },
  {
   "cell_type": "code",
   "execution_count": null,
   "metadata": {},
   "outputs": [],
   "source": [
    "nombre mal = 1"
   ]
  },
  {
   "cell_type": "code",
   "execution_count": null,
   "metadata": {},
   "outputs": [],
   "source": [
    "mes = 09"
   ]
  },
  {
   "cell_type": "code",
   "execution_count": null,
   "metadata": {},
   "outputs": [],
   "source": [
    "var1 = 2\n",
    "var2 = 3 + var"
   ]
  },
  {
   "cell_type": "code",
   "execution_count": null,
   "metadata": {},
   "outputs": [],
   "source": [
    "numeroUno = 1\n",
    "numeroTres = numerouno + 2"
   ]
  }
 ],
 "metadata": {
  "kernelspec": {
   "display_name": "Python 3",
   "language": "python",
   "name": "python3"
  },
  "language_info": {
   "codemirror_mode": {
    "name": "ipython",
    "version": 3
   },
   "file_extension": ".py",
   "mimetype": "text/x-python",
   "name": "python",
   "nbconvert_exporter": "python",
   "pygments_lexer": "ipython3",
   "version": "3.7.4"
  }
 },
 "nbformat": 4,
 "nbformat_minor": 2
}
